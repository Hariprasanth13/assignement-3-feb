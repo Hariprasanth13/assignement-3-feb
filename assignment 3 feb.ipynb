{
 "cells": [
  {
   "cell_type": "markdown",
   "id": "5161eb21-2ad4-43d2-ac15-2b6ad590b665",
   "metadata": {},
   "source": [
    "1.def is the keyword to define a function in python"
   ]
  },
  {
   "cell_type": "code",
   "execution_count": 3,
   "id": "c4d6bf57-c398-46fd-9a37-a2f17c1877ff",
   "metadata": {},
   "outputs": [],
   "source": [
    "def odd_num():\n",
    "    lst=[]\n",
    "    for i in range(1,25):\n",
    "        if i%2!=0:\n",
    "            lst.append(i)\n",
    "    return lst       "
   ]
  },
  {
   "cell_type": "code",
   "execution_count": 4,
   "id": "4068decf-26b8-416a-b900-7094213785c8",
   "metadata": {},
   "outputs": [
    {
     "data": {
      "text/plain": [
       "[1, 3, 5, 7, 9, 11, 13, 15, 17, 19, 21, 23]"
      ]
     },
     "execution_count": 4,
     "metadata": {},
     "output_type": "execute_result"
    }
   ],
   "source": [
    "odd_num()"
   ]
  },
  {
   "cell_type": "markdown",
   "id": "4e458c53-d1d0-433a-8cff-3671e84c09ae",
   "metadata": {},
   "source": [
    "2.* args = To make a function to accept any number of arguements\n",
    "All the data sent as arguments will be taken inside a tuple\n",
    "**kwargs = To send n number of key value paris as arguements"
   ]
  },
  {
   "cell_type": "code",
   "execution_count": 5,
   "id": "82ff56d5-6dff-4672-b4ec-51b8cb2dfe40",
   "metadata": {},
   "outputs": [],
   "source": [
    "def test(*args):\n",
    "    for i in args:\n",
    "        print(i)"
   ]
  },
  {
   "cell_type": "code",
   "execution_count": 6,
   "id": "53d54148-6038-4313-a7b9-c729aa50bfcf",
   "metadata": {},
   "outputs": [
    {
     "name": "stdout",
     "output_type": "stream",
     "text": [
      "1\n",
      "2\n",
      "3\n",
      "4\n",
      "Harish\n",
      "[1, 2, 3, 3]\n"
     ]
    }
   ],
   "source": [
    "test(1,2,3,4,'Harish',[1,2,3,3])"
   ]
  },
  {
   "cell_type": "code",
   "execution_count": 13,
   "id": "cdbf19ac-75b9-4ff3-bd71-3fbebb512bd9",
   "metadata": {},
   "outputs": [],
   "source": [
    "def test1(**kwargs):\n",
    "    for i in kwargs.items():\n",
    "        print(i)"
   ]
  },
  {
   "cell_type": "code",
   "execution_count": 14,
   "id": "904e5fbc-3a6f-4058-8c89-d187de3cb7b1",
   "metadata": {},
   "outputs": [
    {
     "name": "stdout",
     "output_type": "stream",
     "text": [
      "('a', 1)\n",
      "('b', 2)\n"
     ]
    }
   ],
   "source": [
    "test1(a=1,b=2)"
   ]
  },
  {
   "cell_type": "markdown",
   "id": "542bcd13-dae7-4678-abc9-83dab06b40dc",
   "metadata": {},
   "source": [
    "3. An Iterator is an object which is used to iterate over a iterable objects\n",
    "Two methods are \n",
    "__iter__()\n",
    "__next__()"
   ]
  },
  {
   "cell_type": "code",
   "execution_count": 23,
   "id": "fbc91af6-a655-452d-b639-768fb80110af",
   "metadata": {},
   "outputs": [],
   "source": [
    "lst1=[2, 4, 6, 8, 10, 12, 14, 16,\n",
    "18, 20]"
   ]
  },
  {
   "cell_type": "code",
   "execution_count": 36,
   "id": "2378f957-37e7-4ce3-a36e-306fb645b98e",
   "metadata": {},
   "outputs": [],
   "source": [
    "def frstfive():\n",
    "    itr_obj=lst1.__iter__()\n",
    "    print(itr_obj.__next__())\n",
    "    print(itr_obj.__next__())\n",
    "    print(itr_obj.__next__())\n",
    "    print(itr_obj.__next__())\n",
    "    print(itr_obj.__next__())"
   ]
  },
  {
   "cell_type": "code",
   "execution_count": 37,
   "id": "da5f48d3-e6f7-473e-a766-a5e2689d637b",
   "metadata": {},
   "outputs": [
    {
     "name": "stdout",
     "output_type": "stream",
     "text": [
      "2\n",
      "4\n",
      "6\n",
      "8\n",
      "10\n"
     ]
    }
   ],
   "source": [
    "frstfive()"
   ]
  },
  {
   "cell_type": "markdown",
   "id": "3f1b8628-6528-49dc-b275-2ec867987a80",
   "metadata": {},
   "source": [
    "4. Generator function - unlike normal function which performs all the operation before providing the result, the generator function will provide output for each iteration in this way the bottle neck can be avoided\n",
    "To provide that value 'yeild' keyword is used"
   ]
  },
  {
   "cell_type": "code",
   "execution_count": 46,
   "id": "9a3ef085-feb1-4e04-8ec0-6bfae691e626",
   "metadata": {},
   "outputs": [],
   "source": [
    "def test():\n",
    "    for i in range(7):\n",
    "        yield i"
   ]
  },
  {
   "cell_type": "code",
   "execution_count": 47,
   "id": "1faeeec5-a0f7-4e7d-8704-6309f1fefcce",
   "metadata": {},
   "outputs": [],
   "source": [
    "test_result = test()"
   ]
  },
  {
   "cell_type": "code",
   "execution_count": 48,
   "id": "aae63174-8ad9-4452-99a8-092b17e3ee6f",
   "metadata": {},
   "outputs": [
    {
     "name": "stdout",
     "output_type": "stream",
     "text": [
      "0\n",
      "1\n",
      "2\n",
      "3\n",
      "4\n",
      "5\n",
      "6\n"
     ]
    }
   ],
   "source": [
    "for i in test_result:\n",
    "    print(i)"
   ]
  },
  {
   "cell_type": "markdown",
   "id": "ace211be-3da0-4e0d-bb7e-9a8ccaf27d59",
   "metadata": {},
   "source": [
    "5 Question"
   ]
  },
  {
   "cell_type": "code",
   "execution_count": 80,
   "id": "238ad598-bccb-4f14-8217-dc3c36b96206",
   "metadata": {},
   "outputs": [],
   "source": [
    "def test():\n",
    "    num= 1000\n",
    "    for i in range(1,1000):\n",
    "        for j in range(2,i):\n",
    "            if i%j==0:\n",
    "                break\n",
    "            if j==(i-1) and i%j!=0:\n",
    "                yield i"
   ]
  },
  {
   "cell_type": "code",
   "execution_count": 81,
   "id": "49f715e8-e776-4d3c-9617-a6b1323f106e",
   "metadata": {},
   "outputs": [],
   "source": [
    "data = test()"
   ]
  },
  {
   "cell_type": "code",
   "execution_count": 82,
   "id": "3e6effe9-d791-4103-ac16-00589ee63de1",
   "metadata": {},
   "outputs": [],
   "source": [
    "data_itr=data.__iter__()"
   ]
  },
  {
   "cell_type": "code",
   "execution_count": 83,
   "id": "6a79b4cd-5339-4b93-a175-0259905acc17",
   "metadata": {},
   "outputs": [
    {
     "name": "stdout",
     "output_type": "stream",
     "text": [
      "3\n",
      "5\n",
      "7\n",
      "11\n",
      "13\n",
      "17\n",
      "19\n",
      "23\n",
      "29\n",
      "31\n",
      "37\n",
      "41\n",
      "43\n",
      "47\n",
      "53\n",
      "59\n",
      "61\n",
      "67\n",
      "71\n",
      "73\n"
     ]
    }
   ],
   "source": [
    "for i in range(20):\n",
    "    print(data_itr.__next__())\n"
   ]
  },
  {
   "cell_type": "code",
   "execution_count": null,
   "id": "3acfd969-e61f-4199-8071-1d664ed8e8e3",
   "metadata": {},
   "outputs": [],
   "source": []
  }
 ],
 "metadata": {
  "kernelspec": {
   "display_name": "Python 3 (ipykernel)",
   "language": "python",
   "name": "python3"
  },
  "language_info": {
   "codemirror_mode": {
    "name": "ipython",
    "version": 3
   },
   "file_extension": ".py",
   "mimetype": "text/x-python",
   "name": "python",
   "nbconvert_exporter": "python",
   "pygments_lexer": "ipython3",
   "version": "3.10.8"
  }
 },
 "nbformat": 4,
 "nbformat_minor": 5
}
